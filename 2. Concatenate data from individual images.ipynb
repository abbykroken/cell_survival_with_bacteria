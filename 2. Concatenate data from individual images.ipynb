{
 "cells": [
  {
   "cell_type": "code",
   "execution_count": null,
   "metadata": {},
   "outputs": [],
   "source": [
    "#Import stuff \n",
    "import pandas as pd\n",
    "import os\n",
    "import numpy as np\n",
    "from tkinter import Tk\n",
    "import glob\n",
    "print (\"Pandas imported\")\n",
    "print (\"os imported\")\n",
    "print (\"Numpy imported\")\n",
    "print (\"tkinter imported\")"
   ]
  },
  {
   "cell_type": "code",
   "execution_count": null,
   "metadata": {},
   "outputs": [],
   "source": [
    "##### Display dialog box for user to select the path. \n",
    "\n",
    "from tkinter.filedialog import askdirectory\n",
    "inputDir = askdirectory(title='Select Input Directory') \n",
    "print(\"Selected directory: \" + inputDir)  \n",
    "os.chdir(inputDir)\n",
    "cwd = os.getcwd()\n",
    "print(\"Current working directory: {0}\".format(cwd))\n",
    "\n",
    "##### Optional static input directory here, remove hashes. \n",
    "\n",
    "#inputDir = '/Users/abbykroken/Desktop/F5a/070920 n2/dfs'\n",
    "#print(\"Selected directory: \" + inputDir)  \n",
    "#os.chdir(inputDir)\n",
    "#cwd = os.getcwd()\n",
    "#print(\"Current working directory: {0}\".format(cwd))"
   ]
  },
  {
   "cell_type": "code",
   "execution_count": null,
   "metadata": {},
   "outputs": [],
   "source": [
    "#Stack all the files in the directory together in one dataframe.\n",
    "\n",
    "path = inputDir\n",
    "all_files = glob.glob(path + \"/*.csv\")\n",
    "\n",
    "df = pd.concat((pd.read_csv(f) for f in all_files))"
   ]
  },
  {
   "cell_type": "code",
   "execution_count": null,
   "metadata": {},
   "outputs": [],
   "source": [
    "#Save dataframe as a .csv file.\n",
    "\n",
    "df.to_csv('All_Results.csv', index=False)\n",
    "print('Your data has been saved as All_Results.csv.')"
   ]
  }
 ],
 "metadata": {
  "kernelspec": {
   "display_name": "Python 3",
   "language": "python",
   "name": "python3"
  },
  "language_info": {
   "codemirror_mode": {
    "name": "ipython",
    "version": 3
   },
   "file_extension": ".py",
   "mimetype": "text/x-python",
   "name": "python",
   "nbconvert_exporter": "python",
   "pygments_lexer": "ipython3",
   "version": "3.8.5"
  }
 },
 "nbformat": 4,
 "nbformat_minor": 4
}
