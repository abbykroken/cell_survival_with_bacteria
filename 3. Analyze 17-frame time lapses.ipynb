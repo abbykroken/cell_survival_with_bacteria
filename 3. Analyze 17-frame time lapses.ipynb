{
 "cells": [
  {
   "cell_type": "code",
   "execution_count": null,
   "metadata": {},
   "outputs": [],
   "source": [
    "# Import stuff \n",
    "import pandas as pd\n",
    "import os\n",
    "import numpy as np\n",
    "print (\"Pandas imported\")\n",
    "print (\"os imported\")\n",
    "print (\"Numpy imported\")"
   ]
  },
  {
   "cell_type": "code",
   "execution_count": null,
   "metadata": {},
   "outputs": [],
   "source": [
    "#### CHANGE DIRECTORY ####\n",
    "\n",
    "inputDir = '/Users/abbykroken/Desktop/sand2/dfs'\n",
    "\n",
    "print(\"Selected directory: \" + inputDir)  \n",
    "os.chdir(inputDir)\n",
    "cwd = os.getcwd()\n",
    "print(\"Current working directory: {0}\".format(cwd))"
   ]
  },
  {
   "cell_type": "code",
   "execution_count": null,
   "metadata": {},
   "outputs": [],
   "source": [
    "# Load results file as and examine it.\n",
    "df = pd.read_csv('All_Results.csv')\n",
    "pd.options.display.max_columns = None\n",
    "df"
   ]
  },
  {
   "cell_type": "code",
   "execution_count": null,
   "metadata": {},
   "outputs": [],
   "source": [
    "# Create a new dataframe to populate processed results\n",
    "\n",
    "selected_columns = df[[\"Unique ID\", \"Strain\"]]\n",
    "resultdf = selected_columns.copy()\n",
    "resultdf.head()"
   ]
  },
  {
   "cell_type": "code",
   "execution_count": null,
   "metadata": {},
   "outputs": [],
   "source": [
    "# User defines cutoffs. Determine these by viewing the TIF results file and raw data for GFP max.\n",
    "# 1.6 used often for PI/Hoechst cutoff.\n",
    "# 10 works well for GFP area.\n",
    "# 525 works well for GFP max. \n",
    "\n",
    "dead = float(input(\"PI to Hoechst ratio cutoff: \"))\n",
    "gfpArea = int(input(\"GFP min area required: \"))\n",
    "gfpMax = int(input(\"GFP Max required for positive signal: \"))\n"
   ]
  },
  {
   "cell_type": "code",
   "execution_count": null,
   "metadata": {},
   "outputs": [],
   "source": [
    "# Make a new dataframe for just the cell death.\n",
    "\n",
    "columnss = df[[\"Unique ID\",\"04h-n\",\"05h-n\",\"06h-n\",\"07h-n\",\"08h-n\",\"09h-n\",\"10h-n\",\"11h-n\",\"12h-n\",\"13h-n\",\"14h-n\",\"15h-n\",\"16h-n\",\"17h-n\",\"18h-n\",\"19h-n\",\"20h-n\"]]\n",
    "\n",
    "nucdf = columnss.copy()\n",
    "nucdf.head(15)"
   ]
  },
  {
   "cell_type": "code",
   "execution_count": null,
   "metadata": {},
   "outputs": [],
   "source": [
    "# ensure all nucleus data is numeric and rounded\n",
    "\n",
    "nucdf['04h-n'] = pd.to_numeric(nucdf['04h-n'],errors='coerce')\n",
    "nucdf['05h-n'] = pd.to_numeric(nucdf['05h-n'],errors='coerce') \n",
    "nucdf['06h-n'] = pd.to_numeric(nucdf['06h-n'],errors='coerce')\n",
    "nucdf['07h-n'] = pd.to_numeric(nucdf['07h-n'],errors='coerce')\n",
    "nucdf['08h-n'] = pd.to_numeric(nucdf['08h-n'],errors='coerce')\n",
    "nucdf['09h-n'] = pd.to_numeric(nucdf['09h-n'],errors='coerce')\n",
    "nucdf['10h-n'] = pd.to_numeric(nucdf['10h-n'],errors='coerce')\n",
    "nucdf['11h-n'] = pd.to_numeric(nucdf['11h-n'],errors='coerce')\n",
    "nucdf['12h-n'] = pd.to_numeric(nucdf['12h-n'],errors='coerce')\n",
    "nucdf['13h-n'] = pd.to_numeric(nucdf['13h-n'],errors='coerce')\n",
    "nucdf['14h-n'] = pd.to_numeric(nucdf['14h-n'],errors='coerce')\n",
    "nucdf['15h-n'] = pd.to_numeric(nucdf['15h-n'],errors='coerce')\n",
    "nucdf['16h-n'] = pd.to_numeric(nucdf['16h-n'],errors='coerce')\n",
    "nucdf['17h-n'] = pd.to_numeric(nucdf['17h-n'],errors='coerce')\n",
    "nucdf['18h-n'] = pd.to_numeric(nucdf['18h-n'],errors='coerce')\n",
    "nucdf['19h-n'] = pd.to_numeric(nucdf['19h-n'],errors='coerce')\n",
    "nucdf['20h-n'] = pd.to_numeric(nucdf['20h-n'],errors='coerce')"
   ]
  },
  {
   "cell_type": "code",
   "execution_count": null,
   "metadata": {},
   "outputs": [],
   "source": [
    "# Replace cell value with \"alive\" or the timepoint if it is dead. \n",
    "\n",
    "nucdf[\"04h-n\"] = np.where(nucdf[\"04h-n\"] > dead, 4, \"alive\")\n",
    "nucdf[\"05h-n\"] = np.where(nucdf[\"05h-n\"] > dead, 5, \"alive\")\n",
    "nucdf[\"06h-n\"] = np.where(nucdf[\"06h-n\"] > dead, 6, \"alive\")\n",
    "nucdf[\"07h-n\"] = np.where(nucdf[\"07h-n\"] > dead, 7, \"alive\")\n",
    "nucdf[\"08h-n\"] = np.where(nucdf[\"08h-n\"] > dead, 8, \"alive\")\n",
    "nucdf[\"09h-n\"] = np.where(nucdf[\"09h-n\"] > dead, 9, \"alive\")\n",
    "nucdf[\"10h-n\"] = np.where(nucdf[\"10h-n\"] > dead, 10, \"alive\")\n",
    "nucdf[\"11h-n\"] = np.where(nucdf[\"11h-n\"] > dead, 11, \"alive\")\n",
    "nucdf[\"12h-n\"] = np.where(nucdf[\"12h-n\"] > dead, 12, \"alive\")\n",
    "nucdf[\"13h-n\"] = np.where(nucdf[\"13h-n\"] > dead, 13, \"alive\")\n",
    "nucdf[\"14h-n\"] = np.where(nucdf[\"14h-n\"] > dead, 14, \"alive\")\n",
    "nucdf[\"15h-n\"] = np.where(nucdf[\"15h-n\"] > dead, 15, \"alive\")\n",
    "nucdf[\"16h-n\"] = np.where(nucdf[\"16h-n\"] > dead, 16, \"alive\")\n",
    "nucdf[\"17h-n\"] = np.where(nucdf[\"17h-n\"] > dead, 17, \"alive\")\n",
    "nucdf[\"18h-n\"] = np.where(nucdf[\"18h-n\"] > dead, 18, \"alive\")\n",
    "nucdf[\"19h-n\"] = np.where(nucdf[\"19h-n\"] > dead, 19, \"alive\")\n",
    "nucdf[\"20h-n\"] = np.where(nucdf[\"20h-n\"] > dead, 20, \"alive\")\n",
    "\n",
    "\n",
    "nucdf.head(5)"
   ]
  },
  {
   "cell_type": "code",
   "execution_count": null,
   "metadata": {},
   "outputs": [],
   "source": [
    "# Turn \"alive\" cells into NaNs. \n",
    "\n",
    "nucdf['04h-n'] = pd.to_numeric(nucdf['04h-n'],errors='coerce')\n",
    "nucdf['05h-n'] = pd.to_numeric(nucdf['05h-n'],errors='coerce') \n",
    "nucdf['06h-n'] = pd.to_numeric(nucdf['06h-n'],errors='coerce')\n",
    "nucdf['07h-n'] = pd.to_numeric(nucdf['07h-n'],errors='coerce')\n",
    "nucdf['08h-n'] = pd.to_numeric(nucdf['08h-n'],errors='coerce')\n",
    "nucdf['09h-n'] = pd.to_numeric(nucdf['09h-n'],errors='coerce')\n",
    "nucdf['10h-n'] = pd.to_numeric(nucdf['10h-n'],errors='coerce')\n",
    "nucdf['11h-n'] = pd.to_numeric(nucdf['11h-n'],errors='coerce')\n",
    "nucdf['12h-n'] = pd.to_numeric(nucdf['12h-n'],errors='coerce')\n",
    "nucdf['13h-n'] = pd.to_numeric(nucdf['13h-n'],errors='coerce')\n",
    "nucdf['14h-n'] = pd.to_numeric(nucdf['14h-n'],errors='coerce')\n",
    "nucdf['15h-n'] = pd.to_numeric(nucdf['15h-n'],errors='coerce')\n",
    "nucdf['16h-n'] = pd.to_numeric(nucdf['16h-n'],errors='coerce')\n",
    "nucdf['17h-n'] = pd.to_numeric(nucdf['17h-n'],errors='coerce')\n",
    "nucdf['18h-n'] = pd.to_numeric(nucdf['18h-n'],errors='coerce')\n",
    "nucdf['19h-n'] = pd.to_numeric(nucdf['19h-n'],errors='coerce')\n",
    "nucdf['20h-n'] = pd.to_numeric(nucdf['20h-n'],errors='coerce')"
   ]
  },
  {
   "cell_type": "code",
   "execution_count": null,
   "metadata": {},
   "outputs": [],
   "source": [
    "# check to make sure the values were replaced as expected.\n",
    "pd.options.display.max_columns = None\n",
    "nucdf.head(15)"
   ]
  },
  {
   "cell_type": "code",
   "execution_count": null,
   "metadata": {},
   "outputs": [],
   "source": [
    "# Place minimum value in each row into results table. \n",
    "# This is the first timepoint where the cell was reported dead.\n",
    "# This strategy avoids accidently counting cells where the PI signal drops back to \"alive\" status.\n",
    "\n",
    "resultdf['Survival Time'] = nucdf.min(axis=1, skipna=None, level=None, numeric_only=None)\n",
    "resultdf.head(15)\n"
   ]
  },
  {
   "cell_type": "code",
   "execution_count": null,
   "metadata": {},
   "outputs": [],
   "source": [
    "# Create a new dataframe to calculate invasion results starting with GFP area.\n",
    "\n",
    "selected_columns2 = df[[\"Unique ID\",\"04h-a\",\"05h-a\",\"06h-a\",\"07h-a\",\"08h-a\",\"09h-a\",\"10h-a\",\"11h-a\",\"12h-a\",\"13h-a\",\"14h-a\",\"15h-a\",\"16h-a\",\"17h-a\",\"18h-a\",\"19h-a\",\"20h-a\"]]\n",
    "areadf = selected_columns2.copy()\n",
    "areadf.head(15)"
   ]
  },
  {
   "cell_type": "code",
   "execution_count": null,
   "metadata": {},
   "outputs": [],
   "source": [
    "# Ensure all data is numeric and rounded.\n",
    "\n",
    "areadf['04h-a'] = areadf['04h-a'].astype(float).round(3)\n",
    "areadf['05h-a'] = areadf['05h-a'].astype(float).round(3)\n",
    "areadf['06h-a'] = areadf['06h-a'].astype(float).round(3)\n",
    "areadf['07h-a'] = areadf['07h-a'].astype(float).round(3)\n",
    "areadf['08h-a'] = areadf['08h-a'].astype(float).round(3)\n",
    "areadf['09h-a'] = areadf['09h-a'].astype(float).round(3)\n",
    "areadf['10h-a'] = areadf['10h-a'].astype(float).round(3)\n",
    "areadf['11h-a'] = areadf['11h-a'].astype(float).round(3)\n",
    "areadf['12h-a'] = areadf['12h-a'].astype(float).round(3)\n",
    "areadf['13h-a'] = areadf['13h-a'].astype(float).round(3)\n",
    "areadf['14h-a'] = areadf['14h-a'].astype(float).round(3)\n",
    "areadf['15h-a'] = areadf['15h-a'].astype(float).round(3)\n",
    "areadf['16h-a'] = areadf['16h-a'].astype(float).round(3)\n",
    "areadf['17h-a'] = areadf['17h-a'].astype(float).round(3)\n",
    "areadf['18h-a'] = areadf['18h-a'].astype(float).round(3)\n",
    "areadf['19h-a'] = areadf['19h-a'].astype(float).round(3)\n",
    "areadf['20h-a'] = areadf['20h-a'].astype(float).round(3)\n",
    "\n",
    "areadf['04h-a'] = pd.to_numeric(areadf['04h-a'],errors='coerce')\n",
    "areadf['05h-a'] = pd.to_numeric(areadf['05h-a'],errors='coerce') \n",
    "areadf['06h-a'] = pd.to_numeric(areadf['06h-a'],errors='coerce')\n",
    "areadf['07h-a'] = pd.to_numeric(areadf['07h-a'],errors='coerce')\n",
    "areadf['08h-a'] = pd.to_numeric(areadf['08h-a'],errors='coerce')\n",
    "areadf['09h-a'] = pd.to_numeric(areadf['09h-a'],errors='coerce')\n",
    "areadf['10h-a'] = pd.to_numeric(areadf['10h-a'],errors='coerce')\n",
    "areadf['11h-a'] = pd.to_numeric(areadf['11h-a'],errors='coerce')\n",
    "areadf['12h-a'] = pd.to_numeric(areadf['12h-a'],errors='coerce')\n",
    "areadf['13h-a'] = pd.to_numeric(areadf['13h-a'],errors='coerce')\n",
    "areadf['14h-a'] = pd.to_numeric(areadf['14h-a'],errors='coerce')\n",
    "areadf['15h-a'] = pd.to_numeric(areadf['15h-a'],errors='coerce')\n",
    "areadf['16h-a'] = pd.to_numeric(areadf['16h-a'],errors='coerce')\n",
    "areadf['17h-a'] = pd.to_numeric(areadf['17h-a'],errors='coerce')\n",
    "areadf['18h-a'] = pd.to_numeric(areadf['18h-a'],errors='coerce')\n",
    "areadf['19h-a'] = pd.to_numeric(areadf['19h-a'],errors='coerce')\n",
    "areadf['20h-a'] = pd.to_numeric(areadf['20h-a'],errors='coerce')\n",
    "\n",
    "\n"
   ]
  },
  {
   "cell_type": "code",
   "execution_count": null,
   "metadata": {},
   "outputs": [],
   "source": [
    "# Replace GFP values with dead/NaN where the cell is dead so they are not factored in.\n",
    "\n",
    "#### SPECIAL INSTRUCTIONS ####\n",
    "# Hour 4 or up to 6 for rhamnose induction may be left alone here to detect GFP+ bacteria in already-dead cells. \n",
    "# Hash out timepoints from 04 to 06 to prevent those from being lost.\n",
    "# This does not impact the calculation of the cell death point.\n",
    "\n",
    "#areadf[\"04h-a\"] = np.where(df[\"04h-n\"] < dead, areadf[\"04h-a\"], \"dead\")\n",
    "areadf[\"05h-a\"] = np.where(df[\"05h-n\"] < dead, areadf[\"05h-a\"], \"dead\")\n",
    "areadf[\"06h-a\"] = np.where(df[\"06h-n\"] < dead, areadf[\"06h-a\"], \"dead\")\n",
    "areadf[\"07h-a\"] = np.where(df[\"07h-n\"] < dead, areadf[\"07h-a\"], \"dead\")\n",
    "areadf[\"08h-a\"] = np.where(df[\"08h-n\"] < dead, areadf[\"08h-a\"], \"dead\")\n",
    "areadf[\"09h-a\"] = np.where(df[\"09h-n\"] < dead, areadf[\"09h-a\"], \"dead\")\n",
    "areadf[\"09h-a\"] = np.where(df[\"09h-n\"] < dead, areadf[\"09h-a\"], \"dead\")\n",
    "areadf[\"10h-a\"] = np.where(df[\"10h-n\"] < dead, areadf[\"10h-a\"], \"dead\")\n",
    "areadf[\"11h-a\"] = np.where(df[\"11h-n\"] < dead, areadf[\"11h-a\"], \"dead\")\n",
    "areadf[\"12h-a\"] = np.where(df[\"12h-n\"] < dead, areadf[\"12h-a\"], \"dead\")\n",
    "areadf[\"13h-a\"] = np.where(df[\"13h-n\"] < dead, areadf[\"13h-a\"], \"dead\")\n",
    "areadf[\"14h-a\"] = np.where(df[\"14h-n\"] < dead, areadf[\"14h-a\"], \"dead\")\n",
    "areadf[\"15h-a\"] = np.where(df[\"15h-n\"] < dead, areadf[\"15h-a\"], \"dead\")\n",
    "areadf[\"16h-a\"] = np.where(df[\"16h-n\"] < dead, areadf[\"16h-a\"], \"dead\")\n",
    "areadf[\"17h-a\"] = np.where(df[\"17h-n\"] < dead, areadf[\"17h-a\"], \"dead\")\n",
    "areadf[\"18h-a\"] = np.where(df[\"18h-n\"] < dead, areadf[\"18h-a\"], \"dead\")\n",
    "areadf[\"19h-a\"] = np.where(df[\"19h-n\"] < dead, areadf[\"19h-a\"], \"dead\")\n",
    "areadf[\"20h-a\"] = np.where(df[\"20h-n\"] < dead, areadf[\"20h-a\"], \"dead\")\n",
    "\n",
    "pd.options.display.max_columns = None\n",
    "areadf.head(15)"
   ]
  },
  {
   "cell_type": "code",
   "execution_count": null,
   "metadata": {},
   "outputs": [],
   "source": [
    "# Replace GFP area values with \"bg\" for background, where the GFP max does not reach the user-entered cutoff. \n",
    "\n",
    "areadf[\"04h-a\"] = np.where(df[\"04h-m\"] > gfpMax, areadf[\"04h-a\"], \"bg\")\n",
    "areadf[\"05h-a\"] = np.where(df[\"05h-m\"] > gfpMax, areadf[\"05h-a\"], \"bg\")\n",
    "areadf[\"06h-a\"] = np.where(df[\"06h-m\"] > gfpMax, areadf[\"06h-a\"], \"bg\")\n",
    "areadf[\"07h-a\"] = np.where(df[\"07h-m\"] > gfpMax, areadf[\"07h-a\"], \"bg\")\n",
    "areadf[\"08h-a\"] = np.where(df[\"08h-m\"] > gfpMax, areadf[\"08h-a\"], \"bg\")\n",
    "areadf[\"09h-a\"] = np.where(df[\"09h-m\"] > gfpMax, areadf[\"09h-a\"], \"bg\")\n",
    "areadf[\"09h-a\"] = np.where(df[\"09h-m\"] > gfpMax, areadf[\"09h-a\"], \"bg\")\n",
    "areadf[\"10h-a\"] = np.where(df[\"10h-m\"] > gfpMax, areadf[\"10h-a\"], \"bg\")\n",
    "areadf[\"11h-a\"] = np.where(df[\"11h-m\"] > gfpMax, areadf[\"11h-a\"], \"bg\")\n",
    "areadf[\"12h-a\"] = np.where(df[\"12h-m\"] > gfpMax, areadf[\"12h-a\"], \"bg\")\n",
    "areadf[\"13h-a\"] = np.where(df[\"13h-m\"] > gfpMax, areadf[\"13h-a\"], \"bg\")\n",
    "areadf[\"14h-a\"] = np.where(df[\"14h-m\"] > gfpMax, areadf[\"14h-a\"], \"bg\")\n",
    "areadf[\"15h-a\"] = np.where(df[\"15h-m\"] > gfpMax, areadf[\"15h-a\"], \"bg\")\n",
    "areadf[\"16h-a\"] = np.where(df[\"16h-m\"] > gfpMax, areadf[\"16h-a\"], \"bg\")\n",
    "areadf[\"17h-a\"] = np.where(df[\"17h-m\"] > gfpMax, areadf[\"17h-a\"], \"bg\")\n",
    "areadf[\"18h-a\"] = np.where(df[\"18h-m\"] > gfpMax, areadf[\"18h-a\"], \"bg\")\n",
    "areadf[\"19h-a\"] = np.where(df[\"19h-m\"] > gfpMax, areadf[\"19h-a\"], \"bg\")\n",
    "areadf[\"20h-a\"] = np.where(df[\"20h-m\"] > gfpMax, areadf[\"20h-a\"], \"bg\")\n",
    "\n",
    "pd.options.display.max_columns = None\n",
    "areadf.head(15)                     "
   ]
  },
  {
   "cell_type": "code",
   "execution_count": null,
   "metadata": {},
   "outputs": [],
   "source": [
    "# Make it all numbers again and NaNs again.\n",
    "\n",
    "areadf['04h-a'] = pd.to_numeric(areadf['04h-a'],errors='coerce')\n",
    "areadf['05h-a'] = pd.to_numeric(areadf['05h-a'],errors='coerce') \n",
    "areadf['06h-a'] = pd.to_numeric(areadf['06h-a'],errors='coerce')\n",
    "areadf['07h-a'] = pd.to_numeric(areadf['07h-a'],errors='coerce')\n",
    "areadf['08h-a'] = pd.to_numeric(areadf['08h-a'],errors='coerce')\n",
    "areadf['09h-a'] = pd.to_numeric(areadf['09h-a'],errors='coerce')\n",
    "areadf['10h-a'] = pd.to_numeric(areadf['10h-a'],errors='coerce')\n",
    "areadf['11h-a'] = pd.to_numeric(areadf['11h-a'],errors='coerce')\n",
    "areadf['12h-a'] = pd.to_numeric(areadf['12h-a'],errors='coerce')\n",
    "areadf['13h-a'] = pd.to_numeric(areadf['13h-a'],errors='coerce')\n",
    "areadf['14h-a'] = pd.to_numeric(areadf['14h-a'],errors='coerce')\n",
    "areadf['15h-a'] = pd.to_numeric(areadf['15h-a'],errors='coerce')\n",
    "areadf['16h-a'] = pd.to_numeric(areadf['16h-a'],errors='coerce')\n",
    "areadf['17h-a'] = pd.to_numeric(areadf['17h-a'],errors='coerce')\n",
    "areadf['18h-a'] = pd.to_numeric(areadf['18h-a'],errors='coerce')\n",
    "areadf['19h-a'] = pd.to_numeric(areadf['19h-a'],errors='coerce')\n",
    "areadf['20h-a'] = pd.to_numeric(areadf['20h-a'],errors='coerce')\n",
    "\n",
    "pd.options.display.max_columns = None\n",
    "areadf.head(15)"
   ]
  },
  {
   "cell_type": "code",
   "execution_count": null,
   "metadata": {},
   "outputs": [],
   "source": [
    "# Make a new column that calculates the average area over all the timepoints.\n",
    "\n",
    "areadf['Invasion Ave'] = areadf[['04h-a', '05h-a', '06h-a', '07h-a', '08h-a', '09h-a', '10h-a', '11h-a', '12h-a', '13h-a', '14h-a', '15h-a', '16h-a', '17h-a', '18h-a', '19h-a', '20h-a']].mean(axis=1)\n",
    "pd.options.display.max_columns = None\n",
    "areadf.head(15)"
   ]
  },
  {
   "cell_type": "code",
   "execution_count": null,
   "metadata": {},
   "outputs": [],
   "source": [
    "# Categorize each cell as \"invaded\" or \"not invaded\" based on the user-entered minimum GFP area.\n",
    "# Store this in a new column \"Invasion Status\"\n",
    "\n",
    "areadf['Invasion Status'] = np.where(areadf[\"Invasion Ave\"] > gfpArea, \"Invaded\", \"Not Invaded\")\n",
    "pd.options.display.max_columns = None\n",
    "areadf.head(15)"
   ]
  },
  {
   "cell_type": "code",
   "execution_count": null,
   "metadata": {},
   "outputs": [],
   "source": [
    "# Put Invasion status on the results table.\n",
    "\n",
    "resultdf['Invasion Status'] = areadf[['Invasion Status']]\n",
    "resultdf.head(15)"
   ]
  },
  {
   "cell_type": "code",
   "execution_count": null,
   "metadata": {},
   "outputs": [],
   "source": [
    "# Save results as a new .csv file. \n",
    "\n",
    "resultdf.to_csv('Processed_Results.csv' , index=False)\n",
    "print('Your data has been saved as Processed_Results.csv')"
   ]
  },
  {
   "cell_type": "code",
   "execution_count": null,
   "metadata": {},
   "outputs": [],
   "source": [
    "# Save the finalized area results for further analysis if desired.\n",
    "\n",
    "areadf['Strain'] = df['Strain'] \n",
    "areadf.to_csv('GFP_Area_Results.csv' , index=False)\n",
    "print('Your data has been saved as GFP_Area_Results.csv')"
   ]
  }
 ],
 "metadata": {
  "kernelspec": {
   "display_name": "Python 3",
   "language": "python",
   "name": "python3"
  },
  "language_info": {
   "codemirror_mode": {
    "name": "ipython",
    "version": 3
   },
   "file_extension": ".py",
   "mimetype": "text/x-python",
   "name": "python",
   "nbconvert_exporter": "python",
   "pygments_lexer": "ipython3",
   "version": "3.8.5"
  }
 },
 "nbformat": 4,
 "nbformat_minor": 4
}
