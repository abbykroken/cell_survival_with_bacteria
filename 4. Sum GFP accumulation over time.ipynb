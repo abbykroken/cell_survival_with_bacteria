{
 "cells": [
  {
   "cell_type": "code",
   "execution_count": null,
   "metadata": {},
   "outputs": [],
   "source": [
    "# Import stuff \n",
    "import pandas as pd\n",
    "import os\n",
    "print (\"Pandas imported\")\n",
    "print (\"os imported\")"
   ]
  },
  {
   "cell_type": "code",
   "execution_count": null,
   "metadata": {},
   "outputs": [],
   "source": [
    "### CHANGE THE DIRECTORY ###\n",
    "\n",
    "inputDir = '/Users/abbykroken/Desktop/sand2/dfs'\n",
    "print(\"Selected directory: \" + inputDir)  \n",
    "os.chdir(inputDir)\n",
    "cwd = os.getcwd()\n",
    "print(\"Current working directory: {0}\".format(cwd))"
   ]
  },
  {
   "cell_type": "code",
   "execution_count": null,
   "metadata": {},
   "outputs": [],
   "source": [
    "# Load the GFP area results file.\n",
    "\n",
    "df = pd.read_csv('GFP_Area_Results.csv')\n",
    "pd.options.display.max_columns = None\n",
    "df.head()"
   ]
  },
  {
   "cell_type": "code",
   "execution_count": null,
   "metadata": {},
   "outputs": [],
   "source": [
    "# List out all the unique strains in the data set to check for any data entry issues. \n",
    "\n",
    "NoStrains = df.Strain.unique()\n",
    "print(df.Strain.unique())\n",
    "\n",
    "#Count the number of unique strains.\n",
    "\n",
    "len(NoStrains)"
   ]
  },
  {
   "cell_type": "code",
   "execution_count": null,
   "metadata": {},
   "outputs": [],
   "source": [
    "# Groupby adds all the numerical results from each Strain together. \n",
    "\n",
    "sumdf = df.groupby([\"Strain\"]).sum().reset_index()\n",
    "sumdf"
   ]
  },
  {
   "cell_type": "code",
   "execution_count": null,
   "metadata": {},
   "outputs": [],
   "source": [
    "# Save the finalized area results sum.\n",
    "\n",
    "sumdf.to_csv('GFP_Area_Sums.csv' , index=False)\n",
    "print('Your data has been saved as GFP_Area_Results.csv')"
   ]
  }
 ],
 "metadata": {
  "kernelspec": {
   "display_name": "Python 3",
   "language": "python",
   "name": "python3"
  },
  "language_info": {
   "codemirror_mode": {
    "name": "ipython",
    "version": 3
   },
   "file_extension": ".py",
   "mimetype": "text/x-python",
   "name": "python",
   "nbconvert_exporter": "python",
   "pygments_lexer": "ipython3",
   "version": "3.8.5"
  }
 },
 "nbformat": 4,
 "nbformat_minor": 4
}
