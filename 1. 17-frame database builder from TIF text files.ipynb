{
 "cells": [
  {
   "cell_type": "code",
   "execution_count": null,
   "metadata": {
    "scrolled": true
   },
   "outputs": [],
   "source": [
    "# Import stuff \n",
    "import pandas as pd\n",
    "import os\n",
    "import numpy as np\n",
    "print (\"Pandas imported\")\n",
    "print (\"os imported\")\n",
    "print (\"Numpy imported\")"
   ]
  },
  {
   "cell_type": "code",
   "execution_count": null,
   "metadata": {
    "scrolled": true
   },
   "outputs": [],
   "source": [
    "### CHANGE ITEMS HERE BEFORE STARTING ###\n",
    "# Enter static input directory here and change the working directory.\n",
    "\n",
    "inputDir = '/Users/abbykroken/Desktop/sand2/text'\n",
    "print(\"Selected directory: \" + inputDir)  \n",
    "os.chdir(inputDir)\n",
    "cwd = os.getcwd()\n",
    "print(\"Current working directory: {0}\".format(cwd))"
   ]
  },
  {
   "cell_type": "code",
   "execution_count": null,
   "metadata": {},
   "outputs": [],
   "source": [
    "### CHANGE ITEMS HERE BEFORE STARTING ###\n",
    "#Enter static output directory here. Do not store other things in this directory.\n",
    "\n",
    "outputDir = '/Users/abbykroken/Desktop/sand2/dfs'\n",
    "print(\"Output directory: \", outputDir)"
   ]
  },
  {
   "cell_type": "code",
   "execution_count": null,
   "metadata": {},
   "outputs": [],
   "source": [
    "### CHANGE ITEMS HERE BEFORE STARTING ###\n",
    "\n",
    "# User chooses a filename to process\n",
    "myFile = input(\"Input the raw image filename to process without prefix or extension: \")\n",
    "\n",
    "# The strain can be static or entered by the user: choose one line from below and hash out the other:\n",
    "#strain = input(\"Bacterial strain used for this data: \")\n",
    "strain = \"∆STY\"\n",
    "\n",
    "#User correctly enters in the field number for each strain.\n",
    "fieldNo = input(\"Name the field number for this data: \")\n",
    "\n",
    "print(\"Image File: \" + myFile)\n",
    "print(\"Selected strain: \" + strain)\n",
    "print(\"Field Number: \" + fieldNo)"
   ]
  },
  {
   "cell_type": "code",
   "execution_count": null,
   "metadata": {
    "scrolled": false
   },
   "outputs": [],
   "source": [
    "# Load the cells file and name headers with time and -n for nucleus.\n",
    "\n",
    "df1 = pd.read_csv('Result stack - ' + myFile + '.tif-cells.txt', \n",
    "    sep = \"\\t\", \n",
    "    header= None, \n",
    "    names = [\"04h-n\", \"05h-n\", \"06h-n\", \"07h-n\", \"08h-n\", \"09h-n\", \"10h-n\", \"11h-n\", \"12h-n\", \"13h-n\", \"14h-n\", \"15h-n\", \"16h-n\", \"17h-n\", \"18h-n\", \"19h-n\", \"20h-n\"])\n",
    "df1.head()"
   ]
  },
  {
   "cell_type": "code",
   "execution_count": null,
   "metadata": {
    "scrolled": true
   },
   "outputs": [],
   "source": [
    "# Create Column for Bacterial Strain.\n",
    "\n",
    "df1.insert(0, \"Strain\", strain, True)\n",
    "df1.head()"
   ]
  },
  {
   "cell_type": "code",
   "execution_count": null,
   "metadata": {
    "scrolled": true
   },
   "outputs": [],
   "source": [
    "# Create a column for Field Number\n",
    "\n",
    "df1.insert(1, \"Field No\", fieldNo, True)\n",
    "df1.head()"
   ]
  },
  {
   "cell_type": "code",
   "execution_count": null,
   "metadata": {
    "scrolled": true
   },
   "outputs": [],
   "source": [
    "# Create a column for the cell number that starts at 1 and increases based on row.\n",
    "\n",
    "df1.insert(2, \"Cell No\", np.arange(len(df1)), False)\n",
    "df1['Cell No'] =  + df1['Cell No'] + 1\n",
    "df1.head()"
   ]
  },
  {
   "cell_type": "code",
   "execution_count": null,
   "metadata": {},
   "outputs": [],
   "source": [
    "# Create a column for a unique identifier for each cell \n",
    "\n",
    "cols = ['Strain', 'Field No', 'Cell No']\n",
    "df1['Unique ID'] = df1[cols].apply(lambda row: '_'.join(row.values.astype(str)), axis=1)\n",
    "\n",
    "# Move Unique ID to the beginning.\n",
    "\n",
    "col_name=\"Unique ID\"\n",
    "first_col = df1.pop(col_name)\n",
    "df1.insert(0, col_name, first_col)\n",
    "\n",
    "df1"
   ]
  },
  {
   "cell_type": "code",
   "execution_count": null,
   "metadata": {},
   "outputs": [],
   "source": [
    "# Make a new dataframe for the gfp area file and give it time headers with -a for area.\n",
    "\n",
    "df1a = pd.read_csv('Result stack - ' + myFile + '.tif-gfp-area.txt', \n",
    "    sep = \"\\t\",\n",
    "    header=None,\n",
    "    names=[\"04h-a\", \"05h-a\", \"06h-a\", \"07h-a\", \"08h-a\", \"09h-a\", \"10h-a\", \"11h-a\", \"12h-a\", \"13h-a\", \"14h-a\", \"15h-a\", \"16h-a\", \"17h-a\", \"18h-a\", \"19h-a\", \"20h-a\"])\n",
    "df1a.head()"
   ]
  },
  {
   "cell_type": "code",
   "execution_count": null,
   "metadata": {},
   "outputs": [],
   "source": [
    "# Make a new dataframe for gfp max file and give it headers for time and -m for max.\n",
    "\n",
    "df1b = pd.read_csv('Result stack - ' + myFile + '.tif-gfp-max.txt', \n",
    "    sep = \"\\t\",\n",
    "    header=None,\n",
    "    names=[\"04h-m\", \"05h-m\", \"06h-m\", \"07h-m\", \"08h-m\", \"09h-m\", \"10h-m\", \"11h-m\", \"12h-m\", \"13h-m\", \"14h-m\", \"15h-m\", \"16h-m\", \"17h-m\", \"18h-m\", \"19h-m\", \"20h-m\"])\n",
    "df1b.head()"
   ]
  },
  {
   "cell_type": "code",
   "execution_count": null,
   "metadata": {},
   "outputs": [],
   "source": [
    "# Place the gfp area and gfp max dataframes with the nucleus dataframe. \n",
    "\n",
    "result1 = pd.concat([df1, df1a, df1b], axis=1)\n",
    "result1"
   ]
  },
  {
   "cell_type": "code",
   "execution_count": null,
   "metadata": {},
   "outputs": [],
   "source": [
    "# Save completed dataframe as a new .csv file.\n",
    "\n",
    "result1.to_csv(outputDir + \"/\" + myFile + '.csv', index=False)\n",
    "print('Your data has been saved to the output directory as:', myFile) "
   ]
  },
  {
   "cell_type": "markdown",
   "metadata": {},
   "source": [
    "\n",
    "\n",
    "\n",
    "\n",
    "\n",
    "\n",
    "\n",
    "\n",
    "\n",
    "\n",
    "\n"
   ]
  }
 ],
 "metadata": {
  "kernelspec": {
   "display_name": "Python 3",
   "language": "python",
   "name": "python3"
  },
  "language_info": {
   "codemirror_mode": {
    "name": "ipython",
    "version": 3
   },
   "file_extension": ".py",
   "mimetype": "text/x-python",
   "name": "python",
   "nbconvert_exporter": "python",
   "pygments_lexer": "ipython3",
   "version": "3.8.5"
  }
 },
 "nbformat": 4,
 "nbformat_minor": 4
}
